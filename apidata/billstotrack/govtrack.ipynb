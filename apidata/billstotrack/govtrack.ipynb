{
 "cells": [
  {
   "cell_type": "code",
   "execution_count": 1,
   "metadata": {},
   "outputs": [],
   "source": [
    "import requests\n",
    "from bs4 import BeautifulSoup\n",
    "import selenium\n",
    "from flask import jsonify\n",
    "from config import key"
   ]
  },
  {
   "cell_type": "code",
   "execution_count": 21,
   "metadata": {},
   "outputs": [],
   "source": [
    "def left(s, amount):\n",
    "    return s[:amount]\n",
    "\n",
    "def right(s, amount):\n",
    "    return s[-amount:]\n",
    "\n",
    "def mid(s, offset, amount):\n",
    "    return s[offset:offset+amount]"
   ]
  },
  {
   "cell_type": "code",
   "execution_count": 16,
   "metadata": {},
   "outputs": [
    {
     "name": "stdout",
     "output_type": "stream",
     "text": [
      "25\n",
      "<class 'bs4.element.Tag'>\n",
      "/congress/bills/118/hr82\n"
     ]
    }
   ],
   "source": [
    "base_url = \"https://www.govtrack.us\"\n",
    "search_url = f\"{base_url}/congress/bills/#docket\"\n",
    "response = requests.get(search_url)\n",
    "soup = BeautifulSoup(response.content, \"html.parser\")\n",
    "topbills = soup.find(\"div\",{'id':'top_tracked_bills'}).find_all(\"a\")\n",
    "print(len(topbills))\n",
    "print(type(topbills[0]))\n",
    "print(topbills[0]['href'])"
   ]
  },
  {
   "cell_type": "code",
   "execution_count": 18,
   "metadata": {},
   "outputs": [
    {
     "name": "stdout",
     "output_type": "stream",
     "text": [
      "25\n",
      "['/congress/bills/118/hr82', '/congress/bills/118/hr374', '/congress/bills/118/hr185', '/congress/bills/118/hr25', '/congress/bills/118/hjres11', '/congress/bills/118/hr899', '/congress/bills/118/hr38', '/congress/bills/118/hr26', '/congress/bills/118/hr450', '/congress/bills/118/s25', '/congress/bills/118/hr154', '/congress/bills/118/hr139', '/congress/bills/118/sjres2', '/congress/bills/118/hr46', '/congress/bills/118/hr61', '/congress/bills/118/hr84', '/congress/bills/118/hr383', '/congress/bills/118/hr23', '/congress/bills/118/hres89', '/congress/bills/118/hr22', '/congress/bills/118/hr385', '/congress/bills/118/hr21', '/congress/bills/118/s29', '/congress/bills/118/hr91', '/congress/bills/118/hr168']\n"
     ]
    }
   ],
   "source": [
    "url_list = [result['href'] for result in topbills]\n",
    "print(len(url_list))\n",
    "print(url_list)"
   ]
  },
  {
   "cell_type": "code",
   "execution_count": 19,
   "metadata": {},
   "outputs": [],
   "source": [
    "search_url = base_url + url_list[0]\n",
    "response = requests.get(search_url)\n",
    "soup = BeautifulSoup(response.content, \"html.parser\")"
   ]
  },
  {
   "cell_type": "code",
   "execution_count": 32,
   "metadata": {},
   "outputs": [
    {
     "name": "stdout",
     "output_type": "stream",
     "text": [
      "22\n",
      "22\n"
     ]
    }
   ],
   "source": [
    "congress_nums = [mid(url,16,3) for url in url_list if \"jres\" not in url and \"cres\" not in url and \"sres\" not in url and \"hres\" not in url]\n",
    "\n",
    "results = []\n",
    "for url in url_list:\n",
    "    x = 0\n",
    "    temp = \"\"\n",
    "    while '/' not in temp:\n",
    "        x += 1\n",
    "        temp = right(url, x)\n",
    "        if '/' not in temp:\n",
    "            result = temp\n",
    "    results.append(result)\n",
    "\n",
    "filtered_results = [result for result in results if 'res' not in result]\n",
    "\n",
    "query_list = []\n",
    "for x in range(len(filtered_results)):\n",
    "    temp_dict = {\"congress_num\":congress_nums[x],\"bill_id\":filtered_results[x]}\n",
    "    query_list.append(temp_dict)\n"
   ]
  },
  {
   "cell_type": "code",
   "execution_count": null,
   "metadata": {},
   "outputs": [],
   "source": []
  }
 ],
 "metadata": {
  "kernelspec": {
   "display_name": "usbillsapp",
   "language": "python",
   "name": "python3"
  },
  "language_info": {
   "codemirror_mode": {
    "name": "ipython",
    "version": 3
   },
   "file_extension": ".py",
   "mimetype": "text/x-python",
   "name": "python",
   "nbconvert_exporter": "python",
   "pygments_lexer": "ipython3",
   "version": "3.9.15"
  },
  "orig_nbformat": 4
 },
 "nbformat": 4,
 "nbformat_minor": 2
}
