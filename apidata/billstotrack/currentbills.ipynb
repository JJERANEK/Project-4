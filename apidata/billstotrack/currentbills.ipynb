{
 "cells": [
  {
   "cell_type": "code",
   "execution_count": 39,
   "metadata": {},
   "outputs": [],
   "source": [
    "import pandas as pd"
   ]
  },
  {
   "cell_type": "code",
   "execution_count": 40,
   "metadata": {},
   "outputs": [],
   "source": [
    "df = pd.read_csv('../../Resources/search_results_2023-03-18_1238pm.csv', index_col=False)"
   ]
  },
  {
   "cell_type": "code",
   "execution_count": 45,
   "metadata": {},
   "outputs": [
    {
     "data": {
      "text/html": [
       "<div>\n",
       "<style scoped>\n",
       "    .dataframe tbody tr th:only-of-type {\n",
       "        vertical-align: middle;\n",
       "    }\n",
       "\n",
       "    .dataframe tbody tr th {\n",
       "        vertical-align: top;\n",
       "    }\n",
       "\n",
       "    .dataframe thead th {\n",
       "        text-align: right;\n",
       "    }\n",
       "</style>\n",
       "<table border=\"1\" class=\"dataframe\">\n",
       "  <thead>\n",
       "    <tr style=\"text-align: right;\">\n",
       "      <th></th>\n",
       "      <th>bill_id</th>\n",
       "      <th>URL</th>\n",
       "      <th>congress_num</th>\n",
       "      <th>Title</th>\n",
       "    </tr>\n",
       "  </thead>\n",
       "  <tbody>\n",
       "    <tr>\n",
       "      <th>0</th>\n",
       "      <td>H.R. 1667</td>\n",
       "      <td>https://www.congress.gov/bill/118th-congress/h...</td>\n",
       "      <td>118th Congress (2023-2024)</td>\n",
       "      <td>To require the Secretary of Agriculture to ide...</td>\n",
       "    </tr>\n",
       "    <tr>\n",
       "      <th>1</th>\n",
       "      <td>H.R. 1666</td>\n",
       "      <td>https://www.congress.gov/bill/118th-congress/h...</td>\n",
       "      <td>118th Congress (2023-2024)</td>\n",
       "      <td>To amend title XVIII to protect patient access...</td>\n",
       "    </tr>\n",
       "    <tr>\n",
       "      <th>2</th>\n",
       "      <td>H.R. 1665</td>\n",
       "      <td>https://www.congress.gov/bill/118th-congress/h...</td>\n",
       "      <td>118th Congress (2023-2024)</td>\n",
       "      <td>To direct the Secretary of Transportation to e...</td>\n",
       "    </tr>\n",
       "    <tr>\n",
       "      <th>3</th>\n",
       "      <td>H.R. 1664</td>\n",
       "      <td>https://www.congress.gov/bill/118th-congress/h...</td>\n",
       "      <td>118th Congress (2023-2024)</td>\n",
       "      <td>To require the Board of Governors of the Feder...</td>\n",
       "    </tr>\n",
       "    <tr>\n",
       "      <th>4</th>\n",
       "      <td>H.R. 1663</td>\n",
       "      <td>https://www.congress.gov/bill/118th-congress/h...</td>\n",
       "      <td>118th Congress (2023-2024)</td>\n",
       "      <td>To require the Secretary of the Treasury to de...</td>\n",
       "    </tr>\n",
       "    <tr>\n",
       "      <th>...</th>\n",
       "      <td>...</td>\n",
       "      <td>...</td>\n",
       "      <td>...</td>\n",
       "      <td>...</td>\n",
       "    </tr>\n",
       "    <tr>\n",
       "      <th>2581</th>\n",
       "      <td>S.J.Res. 5</td>\n",
       "      <td>https://www.congress.gov/bill/118th-congress/s...</td>\n",
       "      <td>118th Congress (2023-2024)</td>\n",
       "      <td>A joint resolution disapproving the action of ...</td>\n",
       "    </tr>\n",
       "    <tr>\n",
       "      <th>2582</th>\n",
       "      <td>S.J.Res. 4</td>\n",
       "      <td>https://www.congress.gov/bill/118th-congress/s...</td>\n",
       "      <td>118th Congress (2023-2024)</td>\n",
       "      <td>A joint resolution removing the deadline for t...</td>\n",
       "    </tr>\n",
       "    <tr>\n",
       "      <th>2583</th>\n",
       "      <td>S.J.Res. 3</td>\n",
       "      <td>https://www.congress.gov/bill/118th-congress/s...</td>\n",
       "      <td>118th Congress (2023-2024)</td>\n",
       "      <td>A joint resolution proposing an amendment to t...</td>\n",
       "    </tr>\n",
       "    <tr>\n",
       "      <th>2584</th>\n",
       "      <td>S.J.Res. 2</td>\n",
       "      <td>https://www.congress.gov/bill/118th-congress/s...</td>\n",
       "      <td>118th Congress (2023-2024)</td>\n",
       "      <td>A joint resolution proposing an amendment to t...</td>\n",
       "    </tr>\n",
       "    <tr>\n",
       "      <th>2585</th>\n",
       "      <td>S.J.Res. 1</td>\n",
       "      <td>https://www.congress.gov/bill/118th-congress/s...</td>\n",
       "      <td>118th Congress (2023-2024)</td>\n",
       "      <td>A joint resolution proposing amendments to the...</td>\n",
       "    </tr>\n",
       "  </tbody>\n",
       "</table>\n",
       "<p>2586 rows × 4 columns</p>\n",
       "</div>"
      ],
      "text/plain": [
       "         bill_id                                                URL  \\\n",
       "0      H.R. 1667  https://www.congress.gov/bill/118th-congress/h...   \n",
       "1      H.R. 1666  https://www.congress.gov/bill/118th-congress/h...   \n",
       "2      H.R. 1665  https://www.congress.gov/bill/118th-congress/h...   \n",
       "3      H.R. 1664  https://www.congress.gov/bill/118th-congress/h...   \n",
       "4      H.R. 1663  https://www.congress.gov/bill/118th-congress/h...   \n",
       "...          ...                                                ...   \n",
       "2581  S.J.Res. 5  https://www.congress.gov/bill/118th-congress/s...   \n",
       "2582  S.J.Res. 4  https://www.congress.gov/bill/118th-congress/s...   \n",
       "2583  S.J.Res. 3  https://www.congress.gov/bill/118th-congress/s...   \n",
       "2584  S.J.Res. 2  https://www.congress.gov/bill/118th-congress/s...   \n",
       "2585  S.J.Res. 1  https://www.congress.gov/bill/118th-congress/s...   \n",
       "\n",
       "                    congress_num  \\\n",
       "0     118th Congress (2023-2024)   \n",
       "1     118th Congress (2023-2024)   \n",
       "2     118th Congress (2023-2024)   \n",
       "3     118th Congress (2023-2024)   \n",
       "4     118th Congress (2023-2024)   \n",
       "...                          ...   \n",
       "2581  118th Congress (2023-2024)   \n",
       "2582  118th Congress (2023-2024)   \n",
       "2583  118th Congress (2023-2024)   \n",
       "2584  118th Congress (2023-2024)   \n",
       "2585  118th Congress (2023-2024)   \n",
       "\n",
       "                                                  Title  \n",
       "0     To require the Secretary of Agriculture to ide...  \n",
       "1     To amend title XVIII to protect patient access...  \n",
       "2     To direct the Secretary of Transportation to e...  \n",
       "3     To require the Board of Governors of the Feder...  \n",
       "4     To require the Secretary of the Treasury to de...  \n",
       "...                                                 ...  \n",
       "2581  A joint resolution disapproving the action of ...  \n",
       "2582  A joint resolution removing the deadline for t...  \n",
       "2583  A joint resolution proposing an amendment to t...  \n",
       "2584  A joint resolution proposing an amendment to t...  \n",
       "2585  A joint resolution proposing amendments to the...  \n",
       "\n",
       "[2586 rows x 4 columns]"
      ]
     },
     "execution_count": 45,
     "metadata": {},
     "output_type": "execute_result"
    }
   ],
   "source": [
    "df.rename(columns={'Congress':'congress_num'}, inplace=True)\n"
   ]
  },
  {
   "cell_type": "code",
   "execution_count": 47,
   "metadata": {},
   "outputs": [
    {
     "name": "stderr",
     "output_type": "stream",
     "text": [
      "C:\\Users\\e1317395\\AppData\\Local\\Temp\\ipykernel_20720\\848932744.py:1: FutureWarning: The default value of regex will change from True to False in a future version.\n",
      "  s1 = df['bill_id'].str.replace('. ', '').str.replace('.','')\n",
      "C:\\Users\\e1317395\\AppData\\Local\\Temp\\ipykernel_20720\\848932744.py:1: FutureWarning: The default value of regex will change from True to False in a future version. In addition, single character regular expressions will *not* be treated as literal strings when regex=True.\n",
      "  s1 = df['bill_id'].str.replace('. ', '').str.replace('.','')\n"
     ]
    },
    {
     "data": {
      "text/plain": [
       "Index(['bill_id', 'URL', 'Congress', 'Title'], dtype='object')"
      ]
     },
     "execution_count": 47,
     "metadata": {},
     "output_type": "execute_result"
    }
   ],
   "source": [
    "s1 = df['bill_id'].str.replace('. ', '').str.replace('.','')\n",
    "df.columns\n",
    "# s2 = df['congress_num'].str[:3]\n"
   ]
  },
  {
   "cell_type": "code",
   "execution_count": 37,
   "metadata": {},
   "outputs": [
    {
     "data": {
      "text/html": [
       "<div>\n",
       "<style scoped>\n",
       "    .dataframe tbody tr th:only-of-type {\n",
       "        vertical-align: middle;\n",
       "    }\n",
       "\n",
       "    .dataframe tbody tr th {\n",
       "        vertical-align: top;\n",
       "    }\n",
       "\n",
       "    .dataframe thead th {\n",
       "        text-align: right;\n",
       "    }\n",
       "</style>\n",
       "<table border=\"1\" class=\"dataframe\">\n",
       "  <thead>\n",
       "    <tr style=\"text-align: right;\">\n",
       "      <th></th>\n",
       "      <th>bill_id</th>\n",
       "      <th>Congress</th>\n",
       "    </tr>\n",
       "  </thead>\n",
       "  <tbody>\n",
       "    <tr>\n",
       "      <th>0</th>\n",
       "      <td>HR1667</td>\n",
       "      <td>118</td>\n",
       "    </tr>\n",
       "    <tr>\n",
       "      <th>1</th>\n",
       "      <td>HR1666</td>\n",
       "      <td>118</td>\n",
       "    </tr>\n",
       "    <tr>\n",
       "      <th>2</th>\n",
       "      <td>HR1665</td>\n",
       "      <td>118</td>\n",
       "    </tr>\n",
       "    <tr>\n",
       "      <th>3</th>\n",
       "      <td>HR1664</td>\n",
       "      <td>118</td>\n",
       "    </tr>\n",
       "    <tr>\n",
       "      <th>4</th>\n",
       "      <td>HR1663</td>\n",
       "      <td>118</td>\n",
       "    </tr>\n",
       "  </tbody>\n",
       "</table>\n",
       "</div>"
      ],
      "text/plain": [
       "  bill_id Congress\n",
       "0  HR1667      118\n",
       "1  HR1666      118\n",
       "2  HR1665      118\n",
       "3  HR1664      118\n",
       "4  HR1663      118"
      ]
     },
     "execution_count": 37,
     "metadata": {},
     "output_type": "execute_result"
    }
   ],
   "source": [
    "output_df = pd.concat([s1, s2], axis=1)"
   ]
  },
  {
   "cell_type": "code",
   "execution_count": null,
   "metadata": {},
   "outputs": [],
   "source": []
  },
  {
   "cell_type": "code",
   "execution_count": null,
   "metadata": {},
   "outputs": [],
   "source": []
  },
  {
   "cell_type": "code",
   "execution_count": null,
   "metadata": {},
   "outputs": [],
   "source": []
  },
  {
   "cell_type": "code",
   "execution_count": null,
   "metadata": {},
   "outputs": [],
   "source": []
  }
 ],
 "metadata": {
  "kernelspec": {
   "display_name": "usbillsapp",
   "language": "python",
   "name": "python3"
  },
  "language_info": {
   "codemirror_mode": {
    "name": "ipython",
    "version": 3
   },
   "file_extension": ".py",
   "mimetype": "text/x-python",
   "name": "python",
   "nbconvert_exporter": "python",
   "pygments_lexer": "ipython3",
   "version": "3.9.15"
  },
  "orig_nbformat": 4
 },
 "nbformat": 4,
 "nbformat_minor": 2
}
