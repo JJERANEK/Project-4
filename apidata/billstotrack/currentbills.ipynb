{
 "cells": [
  {
   "cell_type": "code",
   "execution_count": 1,
   "metadata": {},
   "outputs": [],
   "source": [
    "import requests\n",
    "from config import key\n",
    "from govtrack import get_current_bills\n",
    "import json\n",
    "from pprint import pprint\n",
    "from datetime import datetime as dt\n",
    "from bs4 import BeautifulSoup\n",
    "from splinter import Browser\n",
    "import selenium\n",
    "from webdriver_manager.chrome import ChromeDriverManager\n",
    "from selenium.webdriver.common.keys import Keys\n",
    "import time"
   ]
  },
  {
   "cell_type": "code",
   "execution_count": 4,
   "metadata": {},
   "outputs": [
    {
     "ename": "ElementDoesNotExist",
     "evalue": "no elements could be found with css \"a[class=\"next\"]\"",
     "output_type": "error",
     "traceback": [
      "\u001b[1;31m---------------------------------------------------------------------------\u001b[0m",
      "\u001b[1;31mIndexError\u001b[0m                                Traceback (most recent call last)",
      "File \u001b[1;32mc:\\Users\\e1317395\\Anaconda3\\envs\\usbillsapp\\lib\\site-packages\\splinter\\element_list.py:40\u001b[0m, in \u001b[0;36mElementList.__getitem__\u001b[1;34m(self, index)\u001b[0m\n\u001b[0;32m     39\u001b[0m \u001b[39mtry\u001b[39;00m:\n\u001b[1;32m---> 40\u001b[0m     \u001b[39mreturn\u001b[39;00m \u001b[39mself\u001b[39;49m\u001b[39m.\u001b[39;49m_container[index]\n\u001b[0;32m     41\u001b[0m \u001b[39mexcept\u001b[39;00m \u001b[39mIndexError\u001b[39;00m:\n",
      "\u001b[1;31mIndexError\u001b[0m: list index out of range",
      "\nDuring handling of the above exception, another exception occurred:\n",
      "\u001b[1;31mElementDoesNotExist\u001b[0m                       Traceback (most recent call last)",
      "Cell \u001b[1;32mIn[4], line 19\u001b[0m\n\u001b[0;32m     13\u001b[0m     bills_list\u001b[39m.\u001b[39mappend(temp_list)\n\u001b[0;32m     15\u001b[0m     \u001b[39m# browser.execute_script(\"\"\"\u001b[39;00m\n\u001b[0;32m     16\u001b[0m     \u001b[39m# let a[class=\"next\"] = arguments;\u001b[39;00m\n\u001b[0;32m     17\u001b[0m     \u001b[39m# next.remove();\u001b[39;00m\n\u001b[0;32m     18\u001b[0m     \u001b[39m# \"\"\", script_args=(next,))\u001b[39;00m\n\u001b[1;32m---> 19\u001b[0m     browser\u001b[39m.\u001b[39;49mfind_by_css(\u001b[39m'\u001b[39;49m\u001b[39ma[class=\u001b[39;49m\u001b[39m\"\u001b[39;49m\u001b[39mnext\u001b[39;49m\u001b[39m\"\u001b[39;49m\u001b[39m]\u001b[39;49m\u001b[39m'\u001b[39;49m)\u001b[39m.\u001b[39;49mclick()\n\u001b[0;32m     20\u001b[0m     time\u001b[39m.\u001b[39msleep(\u001b[39m15\u001b[39m)\n\u001b[0;32m     22\u001b[0m \u001b[39mprint\u001b[39m(bills_list)\n",
      "File \u001b[1;32mc:\\Users\\e1317395\\Anaconda3\\envs\\usbillsapp\\lib\\site-packages\\splinter\\element_list.py:78\u001b[0m, in \u001b[0;36mElementList.__getattr__\u001b[1;34m(self, name)\u001b[0m\n\u001b[0;32m     76\u001b[0m \u001b[39mdef\u001b[39;00m \u001b[39m__getattr__\u001b[39m(\u001b[39mself\u001b[39m, name):\n\u001b[0;32m     77\u001b[0m     \u001b[39mtry\u001b[39;00m:\n\u001b[1;32m---> 78\u001b[0m         \u001b[39mreturn\u001b[39;00m \u001b[39mgetattr\u001b[39m(\u001b[39mself\u001b[39;49m\u001b[39m.\u001b[39;49mfirst, name)\n\u001b[0;32m     79\u001b[0m     \u001b[39mexcept\u001b[39;00m \u001b[39mAttributeError\u001b[39;00m:\n\u001b[0;32m     80\u001b[0m         \u001b[39mtry\u001b[39;00m:\n",
      "File \u001b[1;32mc:\\Users\\e1317395\\Anaconda3\\envs\\usbillsapp\\lib\\site-packages\\splinter\\element_list.py:56\u001b[0m, in \u001b[0;36mElementList.first\u001b[1;34m(self)\u001b[0m\n\u001b[0;32m     48\u001b[0m \u001b[39m@property\u001b[39m\n\u001b[0;32m     49\u001b[0m \u001b[39mdef\u001b[39;00m \u001b[39mfirst\u001b[39m(\u001b[39mself\u001b[39m):\n\u001b[0;32m     50\u001b[0m     \u001b[39m\"\"\"An alias to the first element of the list.\u001b[39;00m\n\u001b[0;32m     51\u001b[0m \n\u001b[0;32m     52\u001b[0m \u001b[39m    Example:\u001b[39;00m\n\u001b[0;32m     53\u001b[0m \n\u001b[0;32m     54\u001b[0m \u001b[39m        >>> assert element_list[0] == element_list.first\u001b[39;00m\n\u001b[0;32m     55\u001b[0m \u001b[39m    \"\"\"\u001b[39;00m\n\u001b[1;32m---> 56\u001b[0m     \u001b[39mreturn\u001b[39;00m \u001b[39mself\u001b[39;49m[\u001b[39m0\u001b[39;49m]\n",
      "File \u001b[1;32mc:\\Users\\e1317395\\Anaconda3\\envs\\usbillsapp\\lib\\site-packages\\splinter\\element_list.py:42\u001b[0m, in \u001b[0;36mElementList.__getitem__\u001b[1;34m(self, index)\u001b[0m\n\u001b[0;32m     40\u001b[0m     \u001b[39mreturn\u001b[39;00m \u001b[39mself\u001b[39m\u001b[39m.\u001b[39m_container[index]\n\u001b[0;32m     41\u001b[0m \u001b[39mexcept\u001b[39;00m \u001b[39mIndexError\u001b[39;00m:\n\u001b[1;32m---> 42\u001b[0m     \u001b[39mraise\u001b[39;00m ElementDoesNotExist(\n\u001b[0;32m     43\u001b[0m         \u001b[39mu\u001b[39m\u001b[39m'\u001b[39m\u001b[39mno elements could be found with \u001b[39m\u001b[39m{0}\u001b[39;00m\u001b[39m \u001b[39m\u001b[39m\"\u001b[39m\u001b[39m{1}\u001b[39;00m\u001b[39m\"\u001b[39m\u001b[39m'\u001b[39m\u001b[39m.\u001b[39mformat(\n\u001b[0;32m     44\u001b[0m             \u001b[39mself\u001b[39m\u001b[39m.\u001b[39mfind_by, \u001b[39mself\u001b[39m\u001b[39m.\u001b[39mquery\n\u001b[0;32m     45\u001b[0m         )\n\u001b[0;32m     46\u001b[0m     )\n",
      "\u001b[1;31mElementDoesNotExist\u001b[0m: no elements could be found with css \"a[class=\"next\"]\""
     ]
    }
   ],
   "source": [
    "# Set up Splinter\n",
    "executable_path = {'executable_path': ChromeDriverManager().install()}\n",
    "url = \"https://www.govtrack.us/congress/bills/browse?sort=-current_status_date&status=1,3#current_status[]=1,3&bill_type[]=3,2,7,8&sort=-introduced_date\"\n",
    "# url = 'https://www.congress.gov/search?q=%7B%22source%22%3A%22legislation%22%2C%22congress%22%3A%22118%22%2C%22type%22%3A%5B%22bills%22%2C%22joint-resolutions%22%5D%2C%22bill-status%22%3A%5B%22introduced%22%2C%22committee%22%2C%22floor%22%5D%7D'\n",
    "browser = Browser('chrome', **executable_path, headless=False)\n",
    "browser.visit(url)\n",
    "site_contents = browser.html\n",
    "\n",
    "if browser.is_element_present_by_xpath('/html/body/div[3]/div/div/div[1]/button'):\n",
    "    browser.find_by_xpath('/html/body/div[3]/div/div/div[1]/button').click()\n",
    "    time.sleep(3)\n",
    "bills_list = []\n",
    "for x in range(0,24):\n",
    "    \n",
    "    soup = BeautifulSoup(site_contents, \"html.parser\")\n",
    "    temp_list = soup.find_all(\"span\", {'class':'result-heading'})\n",
    "    bills_list.append(temp_list)\n",
    "\n",
    "    # browser.execute_script(\"\"\"\n",
    "    # let a[class=\"next\"] = arguments;\n",
    "    # next.remove();\n",
    "    # \"\"\", script_args=(next,))\n",
    "    browser.find_by_css('a[class=\"next\"]').click()\n",
    "    time.sleep(15)\n",
    "\n",
    "print(bills_list)"
   ]
  },
  {
   "cell_type": "code",
   "execution_count": 19,
   "metadata": {},
   "outputs": [
    {
     "ename": "TypeError",
     "evalue": "'NoneType' object is not subscriptable",
     "output_type": "error",
     "traceback": [
      "\u001b[1;31m---------------------------------------------------------------------------\u001b[0m",
      "\u001b[1;31mTypeError\u001b[0m                                 Traceback (most recent call last)",
      "Cell \u001b[1;32mIn[19], line 8\u001b[0m\n\u001b[0;32m      6\u001b[0m response \u001b[39m=\u001b[39m requests\u001b[39m.\u001b[39mget(base_url\u001b[39m+\u001b[39mhref)\n\u001b[0;32m      7\u001b[0m soup \u001b[39m=\u001b[39m BeautifulSoup(response\u001b[39m.\u001b[39mcontent, \u001b[39m\"\u001b[39m\u001b[39mhtml.parser\u001b[39m\u001b[39m\"\u001b[39m)\n\u001b[1;32m----> 8\u001b[0m href \u001b[39m=\u001b[39m soup\u001b[39m.\u001b[39;49mfind(\u001b[39m\"\u001b[39;49m\u001b[39ma\u001b[39;49m\u001b[39m\"\u001b[39;49m,{\u001b[39m\"\u001b[39;49m\u001b[39mclass\u001b[39;49m\u001b[39m\"\u001b[39;49m:\u001b[39m\"\u001b[39;49m\u001b[39mnext\u001b[39;49m\u001b[39m\"\u001b[39;49m})[\u001b[39m'\u001b[39;49m\u001b[39mhref\u001b[39;49m\u001b[39m'\u001b[39;49m]\n\u001b[0;32m     10\u001b[0m results \u001b[39m=\u001b[39m soup\u001b[39m.\u001b[39mfind_all(\u001b[39m\"\u001b[39m\u001b[39mspan\u001b[39m\u001b[39m\"\u001b[39m, {\u001b[39m\"\u001b[39m\u001b[39mclass\u001b[39m\u001b[39m\"\u001b[39m:\u001b[39m\"\u001b[39m\u001b[39mresult-heading\u001b[39m\u001b[39m\"\u001b[39m})\n\u001b[0;32m     11\u001b[0m temp_list \u001b[39m=\u001b[39m []\n",
      "\u001b[1;31mTypeError\u001b[0m: 'NoneType' object is not subscriptable"
     ]
    }
   ],
   "source": [
    "base_url = 'https://www.congress.gov'\n",
    "href = '/search?q=%7B%22source%22%3A%22legislation%22%2C%22congress%22%3A%22118%22%2C%22type%22%3A%5B%22bills%22%2C%22joint-resolutions%22%5D%2C%22bill-status%22%3A%5B%22introduced%22%2C%22committee%22%2C%22floor%22%5D%7D'\n",
    "\n",
    "bills_list = []\n",
    "for x in range(0,24):\n",
    "    response = requests.get(base_url+href)\n",
    "    soup = BeautifulSoup(response.content, \"html.parser\")\n",
    "    href = soup.find(\"a\",{\"class\":\"next\"})['href']\n",
    "\n",
    "    results = soup.find_all(\"span\", {\"class\":\"result-heading\"})\n",
    "    temp_list = []\n",
    "    for result in results:\n",
    "        billid = result.find('a').text\n",
    "        temp_list.append(billid)\n",
    "    bills_list.append(temp_list)\n",
    "\n",
    "print(bills_list)"
   ]
  },
  {
   "cell_type": "code",
   "execution_count": 26,
   "metadata": {},
   "outputs": [],
   "source": [
    "base_url = 'https://www.congress.gov'\n",
    "href = '/search?q=%7B%22source%22%3A%22legislation%22%2C%22congress%22%3A%22118%22%2C%22type%22%3A%5B%22bills%22%2C%22joint-resolutions%22%5D%2C%22bill-status%22%3A%5B%22introduced%22%2C%22committee%22%2C%22floor%22%5D%7D'\n"
   ]
  },
  {
   "cell_type": "code",
   "execution_count": 29,
   "metadata": {},
   "outputs": [
    {
     "name": "stdout",
     "output_type": "stream",
     "text": [
      "<Response [403]>\n"
     ]
    },
    {
     "name": "stderr",
     "output_type": "stream",
     "text": [
      "c:\\Users\\e1317395\\Anaconda3\\envs\\usbillsapp\\lib\\site-packages\\urllib3\\connectionpool.py:1045: InsecureRequestWarning: Unverified HTTPS request is being made to host 'www.congress.gov'. Adding certificate verification is strongly advised. See: https://urllib3.readthedocs.io/en/1.26.x/advanced-usage.html#ssl-warnings\n",
      "  warnings.warn(\n"
     ]
    }
   ],
   "source": [
    "url = 'https://www.congress.gov/search?q=%7B%22source%22%3A%22legislation%22%2C%22congress%22%3A%22118%22%2C%22type%22%3A%5B%22bills%22%2C%22joint-resolutions%22%5D%2C%22bill-status%22%3A%22introduced%22%7D&pageSize=100&page=1'\n",
    "response = requests.get(url)\n",
    "\n",
    "print(response)"
   ]
  },
  {
   "cell_type": "code",
   "execution_count": 24,
   "metadata": {},
   "outputs": [
    {
     "name": "stdout",
     "output_type": "stream",
     "text": [
      "None\n"
     ]
    }
   ],
   "source": [
    "print(soup.find(\"a\",{\"class\":\"next\"}))"
   ]
  },
  {
   "cell_type": "code",
   "execution_count": null,
   "metadata": {},
   "outputs": [],
   "source": [
    "# Set up Splinter\n",
    "executable_path = {'executable_path': ChromeDriverManager().install()}\n"
   ]
  },
  {
   "cell_type": "code",
   "execution_count": null,
   "metadata": {},
   "outputs": [],
   "source": [
    "# url = \"https://www.govtrack.us/congress/bills/browse?sort=-current_status_date&status=1,3#current_status[]=1,3&bill_type[]=3,2,7,8&sort=-introduced_date\"\n",
    "url = 'https://www.congress.gov/search?q=%7B%22source%22%3A%22legislation%22%2C%22congress%22%3A%22118%22%2C%22type%22%3A%5B%22bills%22%2C%22joint-resolutions%22%5D%2C%22bill-status%22%3A%5B%22introduced%22%2C%22committee%22%2C%22floor%22%5D%7D'\n",
    "browser = Browser('chrome', **executable_path, headless=False)\n",
    "browser.visit(url)\n",
    "site_contents = browser.html\n",
    "bills_list = []\n",
    "for x in range(0,24):\n",
    "    \n",
    "    soup = BeautifulSoup(site_contents, \"html.parser\")\n",
    "    temp_list = soup.find_all(\"span\", {'class':'result-heading'})\n",
    "    bills_list.append(temp_list)\n",
    "\n",
    "    # browser.execute_script(\"\"\"\n",
    "    # let a[class=\"next\"] = arguments;\n",
    "    # next.remove();\n",
    "    # \"\"\", script_args=(next,))\n",
    "    browser.find_by_css('a[class=\"next\"]').click()\n",
    "    time.sleep(15)\n",
    "\n",
    "print(bills_list)"
   ]
  }
 ],
 "metadata": {
  "kernelspec": {
   "display_name": "usbillsapp",
   "language": "python",
   "name": "python3"
  },
  "language_info": {
   "codemirror_mode": {
    "name": "ipython",
    "version": 3
   },
   "file_extension": ".py",
   "mimetype": "text/x-python",
   "name": "python",
   "nbconvert_exporter": "python",
   "pygments_lexer": "ipython3",
   "version": "3.9.15"
  },
  "orig_nbformat": 4
 },
 "nbformat": 4,
 "nbformat_minor": 2
}
